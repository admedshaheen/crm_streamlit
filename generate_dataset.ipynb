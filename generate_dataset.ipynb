{
 "cells": [
  {
   "cell_type": "code",
   "execution_count": 1,
   "id": "b99a2a9d-ada2-40df-8f98-1be778ff44f6",
   "metadata": {},
   "outputs": [],
   "source": [
    "import pandas as pd\n",
    "import numpy as np\n",
    "from faker import Faker\n",
    "import random"
   ]
  },
  {
   "cell_type": "code",
   "execution_count": 3,
   "id": "17ff6260-6bb7-46d8-8b82-1ef8b132876a",
   "metadata": {},
   "outputs": [],
   "source": [
    "fake = Faker()\n",
    "# Number of record to generate \n",
    "num_investors = 500\n",
    "investor_type = [\"VC\", \"Private Equity\", \"Institutional Investor\", \"Family Office\"]\n",
    "sectors = [\"Fintech\", \"Healthtech\", \"AI\", \"Consumer Goods\", \"Edtech\", \"E-commerce\", \"SaaS\", \"Biotech\"]\n",
    "investment_stages = [\"Seed\", \"Series A\", \"Series B\", \"Series C\"]\n",
    "geographic_regions = [\"North America\", \"Europe\", \"MENA\", \"Asia\", \"Global\"]"
   ]
  },
  {
   "cell_type": "code",
   "execution_count": 7,
   "id": "91ef387e-1e41-478d-956b-9b397bb3de37",
   "metadata": {},
   "outputs": [
    {
     "name": "stdout",
     "output_type": "stream",
     "text": [
      "   investor_id              investor_name           investor_type  \\\n",
      "0         1001               Miller-Clark                      VC   \n",
      "1         1002   Holmes, Arellano and Kim  Institutional Investor   \n",
      "2         1003           Stephens-Simmons                      VC   \n",
      "3         1004             Robertson-Berg                      VC   \n",
      "4         1005  Lawrence, Moore and Huber                      VC   \n",
      "\n",
      "     sector_fouce  check_size_usd investment_stage  investment_frequency  \\\n",
      "0          Edtech         6637149             Seed                    12   \n",
      "1              AI         5770202             Seed                     1   \n",
      "2         Fintech         7183366         Series B                     9   \n",
      "3      Healthtech         2853331         Series B                    14   \n",
      "4  Consumer Goods         7935478         Series C                    15   \n",
      "\n",
      "  geographic_focus last_investment_date  \n",
      "0             MENA           2024-05-28  \n",
      "1             MENA           2025-03-16  \n",
      "2           Europe           2024-11-30  \n",
      "3    North America           2025-01-16  \n",
      "4    North America           2024-12-26  \n"
     ]
    }
   ],
   "source": [
    "# Generate dataset \n",
    "investor_data = {\n",
    "    \"investor_id\": range(1001, 1001+ num_investors),\n",
    "    \"investor_name\": [fake.company() for _ in range(num_investors)],\n",
    "    \"investor_type\": [random.choice(investor_type) for _ in range(num_investors)],\n",
    "    \"sector_fouce\": [random.choice(sectors) for _ in range(num_investors)],\n",
    "     \"check_size_usd\": [random.randint(100000, 10000000) for _ in range(num_investors)],\n",
    "    \"investment_stage\": [random.choice(investment_stages) for _ in range(num_investors)],\n",
    "    \"investment_frequency\": [random.randint(1, 15) for _ in range(num_investors)],\n",
    "    \"geographic_focus\": [random.choice(geographic_regions) for _ in range(num_investors)],\n",
    "    \"last_investment_date\": [fake.date_between(start_date='-1y', end_date='today') for _ in range(num_investors)]\n",
    "}\n",
    "\n",
    "df_investors = pd.DataFrame(investor_data)    \n",
    "print(df_investors.head())"
   ]
  },
  {
   "cell_type": "code",
   "execution_count": 9,
   "id": "f980898d-ca2d-47e3-92ca-3a3640fa6c62",
   "metadata": {},
   "outputs": [],
   "source": [
    "# save dataset to CSV \n",
    "df_investors.to_csv(\"simulated_investor_dataset.csv\", index=False)"
   ]
  },
  {
   "cell_type": "code",
   "execution_count": null,
   "id": "608d6e7e-fe84-4de6-a7f1-921ba6c18b40",
   "metadata": {},
   "outputs": [],
   "source": []
  }
 ],
 "metadata": {
  "kernelspec": {
   "display_name": "Python 3 (ipykernel)",
   "language": "python",
   "name": "python3"
  },
  "language_info": {
   "codemirror_mode": {
    "name": "ipython",
    "version": 3
   },
   "file_extension": ".py",
   "mimetype": "text/x-python",
   "name": "python",
   "nbconvert_exporter": "python",
   "pygments_lexer": "ipython3",
   "version": "3.12.4"
  }
 },
 "nbformat": 4,
 "nbformat_minor": 5
}
